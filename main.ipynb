{
 "cells": [
  {
   "cell_type": "code",
   "execution_count": 1,
   "id": "1351b910",
   "metadata": {},
   "outputs": [],
   "source": [
    "from deepagents import create_deep_agent\n",
    "from agents.tools import *\n",
    "from agents.prompts import RESEARCH_INSTRUCTIONS\n",
    "from langchain_ollama import ChatOllama"
   ]
  },
  {
   "cell_type": "code",
   "execution_count": 6,
   "id": "5d8e4727",
   "metadata": {},
   "outputs": [],
   "source": [
    "def agent_call(user_query):\n",
    "    # Create the deep agent\n",
    "    agent = create_deep_agent(\n",
    "        model=ChatOllama(model=\"qwen3:8b\"),\n",
    "        tools=[internet_search, create_markdown_file],\n",
    "        system_prompt=RESEARCH_INSTRUCTIONS,\n",
    "    )\n",
    "\n",
    "    # Invoke the agent\n",
    "    result = agent.invoke(\n",
    "        {\"messages\": [{\"role\": \"user\", \"content\": user_query}]})\n",
    "\n",
    "    return result"
   ]
  },
  {
   "cell_type": "code",
   "execution_count": 7,
   "id": "bfdd3021",
   "metadata": {},
   "outputs": [
    {
     "data": {
      "text/plain": [
       "{'messages': [HumanMessage(content='write an essay on 50 lines', additional_kwargs={}, response_metadata={}, id='5fc91c26-e8c9-4921-839c-7ed6385169a6'),\n",
       "  AIMessage(content='', additional_kwargs={}, response_metadata={'model': 'qwen3:8b', 'created_at': '2025-10-31T17:16:18.8938102Z', 'done': True, 'done_reason': 'stop', 'total_duration': 86231364100, 'load_duration': 71890900, 'prompt_eval_count': 4096, 'prompt_eval_duration': 5423044000, 'eval_count': 1320, 'eval_duration': 80659718500, 'model_name': 'qwen3:8b', 'model_provider': 'ollama'}, id='lc_run--6b386cbd-4145-4884-89b7-3a4bba2862ad-0', tool_calls=[{'name': 'create_markdown_file', 'args': {'content': \"## The Dual Impact of Technology on Society\\n\\n### Introduction\\nTechnology has become an integral part of modern life, reshaping how we communicate, work, and access information. While it offers unprecedented opportunities for progress, it also presents significant challenges. This essay explores the transformative power of technology and its complex implications for society.\\n\\n### The Benefits of Technological Advancement\\n1. **Enhanced Communication**: The internet and social media have connected people globally, enabling real-time interaction and collaboration. Platforms like Zoom and Slack have revolutionized remote work, fostering productivity across time zones.\\n2. **Access to Knowledge**: Digital libraries and online courses democratize education, allowing individuals to learn new skills regardless of location. Initiatives like MOOCs (Massive Open Online Courses) have made higher education accessible to millions.\\n3. **Medical Breakthroughs**: Innovations in biotechnology and telemedicine have improved healthcare delivery. For example, wearable devices monitor health metrics, while AI-driven diagnostics enhance early disease detection.\\n4. **Economic Growth**: Technology drives innovation, creating new industries and jobs. E-commerce platforms like Amazon and Alibaba have transformed global trade, empowering small businesses to reach international markets.\\n\\n### Challenges Posed by Technological Progress\\n1. **Privacy Concerns**: The collection and misuse of personal data by corporations and governments raise ethical questions. Data breaches and surveillance practices erode public trust in digital systems.\\n2. **Digital Divide**: While technology bridges gaps, it also widens inequalities. Low-income communities often lack access to reliable internet, exacerbating educational and economic disparities.\\n3. **Misinformation and Disinformation**: Social media algorithms prioritize engagement over accuracy, spreading false information rapidly. This has fueled polarization and undermined democratic processes.\\n4. **Job Displacement**: Automation threatens traditional jobs, particularly in manufacturing and retail. While new roles emerge in tech sectors, the transition requires retraining and reskilling efforts.\\n\\n### The Future of Technology and Society\\nTo harness technology's potential responsibly, societies must prioritize ethical frameworks and regulatory oversight. Governments should enforce data protection laws and invest in digital literacy programs. Additionally, fostering collaboration between technologists, policymakers, and communities can ensure innovations serve the public good.\\n\\n### Conclusion\\nTechnology is a double-edged sword, offering both immense benefits and profound challenges. Its impact depends on how societies choose to wield it. By embracing mindful innovation and equitable access, we can navigate the digital age to create a more connected, informed, and inclusive world. The journey toward this future requires vigilance, adaptability, and a commitment to balancing progress with humanity.\", 'filename': 'essay_on_technology_impact.md'}, 'id': 'dcad1ccf-d245-42ec-a98b-ce9100a56a8d', 'type': 'tool_call'}], usage_metadata={'input_tokens': 4096, 'output_tokens': 1320, 'total_tokens': 5416}),\n",
       "  ToolMessage(content=\"✅ Markdown file 'essay_on_technology_impact.md' created successfully!\", name='create_markdown_file', id='e7315c03-8c37-4651-bae6-84857c5e2018', tool_call_id='dcad1ccf-d245-42ec-a98b-ce9100a56a8d'),\n",
       "  AIMessage(content=\"The Markdown file `essay_on_technology_impact.md` has been created successfully! Let me know if you'd like to review the content, edit it, or need further assistance with formatting, research, or expansion. 😊\", additional_kwargs={}, response_metadata={'model': 'qwen3:8b', 'created_at': '2025-10-31T17:16:35.2600518Z', 'done': True, 'done_reason': 'stop', 'total_duration': 16344986700, 'load_duration': 86878600, 'prompt_eval_count': 4096, 'prompt_eval_duration': 4355086800, 'eval_count': 197, 'eval_duration': 11856459200, 'model_name': 'qwen3:8b', 'model_provider': 'ollama'}, id='lc_run--979b4c5e-8d64-4f8a-b328-27ecc343f954-0', usage_metadata={'input_tokens': 4096, 'output_tokens': 197, 'total_tokens': 4293})]}"
      ]
     },
     "execution_count": 7,
     "metadata": {},
     "output_type": "execute_result"
    }
   ],
   "source": [
    "agent_call(\"write an essay on 50 lines\")"
   ]
  },
  {
   "cell_type": "code",
   "execution_count": null,
   "id": "0f53d657",
   "metadata": {},
   "outputs": [],
   "source": []
  },
  {
   "cell_type": "code",
   "execution_count": null,
   "id": "9046aee4",
   "metadata": {},
   "outputs": [],
   "source": []
  },
  {
   "cell_type": "code",
   "execution_count": null,
   "id": "8dfbcfa9",
   "metadata": {},
   "outputs": [],
   "source": []
  }
 ],
 "metadata": {
  "kernelspec": {
   "display_name": "Vector-Finance",
   "language": "python",
   "name": "python3"
  },
  "language_info": {
   "codemirror_mode": {
    "name": "ipython",
    "version": 3
   },
   "file_extension": ".py",
   "mimetype": "text/x-python",
   "name": "python",
   "nbconvert_exporter": "python",
   "pygments_lexer": "ipython3",
   "version": "3.13.3"
  }
 },
 "nbformat": 4,
 "nbformat_minor": 5
}
