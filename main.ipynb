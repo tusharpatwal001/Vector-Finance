{
 "cells": [
  {
   "cell_type": "code",
   "execution_count": 2,
   "id": "1351b910",
   "metadata": {},
   "outputs": [],
   "source": [
    "from deepagents import create_deep_agent\n",
    "from agents.tools import *\n",
    "from agents.prompts import RESEARCH_INSTRUCTIONS\n",
    "from langchain_ollama import ChatOllama"
   ]
  },
  {
   "cell_type": "code",
   "execution_count": 11,
   "id": "5d8e4727",
   "metadata": {},
   "outputs": [],
   "source": [
    "def agent_call(user_query):\n",
    "    # Create the deep agent\n",
    "    agent = create_deep_agent(\n",
    "        model=ChatOllama(model=\"qwen3:8b\"),\n",
    "        tools=[list_files, read_file, write_file, edit_file, internet_search, create_markdown_file],\n",
    "        system_prompt=RESEARCH_INSTRUCTIONS,\n",
    "    )   \n",
    "\n",
    "    # Invoke the agent\n",
    "    result = agent.invoke(\n",
    "        {\"messages\": [{\"role\": \"user\", \"content\": user_query}]})\n",
    "\n",
    "    return result"
   ]
  },
  {
   "cell_type": "code",
   "execution_count": 12,
   "id": "bfdd3021",
   "metadata": {},
   "outputs": [],
   "source": [
    "result = agent_call(\"Tell me about tops advancement about Agents in terms of LLM present it into readme file\")"
   ]
  },
  {
   "cell_type": "code",
   "execution_count": 13,
   "id": "0f53d657",
   "metadata": {},
   "outputs": [
    {
     "data": {
      "text/plain": [
       "\"The README.md file has been successfully created! 🎉 Let me know if you'd like to add content to it, make any modifications, or need help with anything else related to your project. I'm here to assist!\""
      ]
     },
     "execution_count": 13,
     "metadata": {},
     "output_type": "execute_result"
    }
   ],
   "source": [
    "result['messages'][-1].content"
   ]
  },
  {
   "cell_type": "code",
   "execution_count": null,
   "id": "9046aee4",
   "metadata": {},
   "outputs": [],
   "source": []
  },
  {
   "cell_type": "code",
   "execution_count": null,
   "id": "8dfbcfa9",
   "metadata": {},
   "outputs": [],
   "source": []
  }
 ],
 "metadata": {
  "kernelspec": {
   "display_name": "Vector-Finance",
   "language": "python",
   "name": "python3"
  },
  "language_info": {
   "codemirror_mode": {
    "name": "ipython",
    "version": 3
   },
   "file_extension": ".py",
   "mimetype": "text/x-python",
   "name": "python",
   "nbconvert_exporter": "python",
   "pygments_lexer": "ipython3",
   "version": "3.13.3"
  }
 },
 "nbformat": 4,
 "nbformat_minor": 5
}
